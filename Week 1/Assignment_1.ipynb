{
  "nbformat": 4,
  "nbformat_minor": 0,
  "metadata": {
    "colab": {
      "name": "Assignment 1.ipynb",
      "provenance": []
    },
    "kernelspec": {
      "name": "python3",
      "display_name": "Python 3"
    },
    "language_info": {
      "name": "python"
    }
  },
  "cells": [
    {
      "cell_type": "markdown",
      "metadata": {
        "id": "eM6qIqwVmQQ3"
      },
      "source": [
        "## Capstone Project Notebook"
      ]
    },
    {
      "cell_type": "markdown",
      "metadata": {
        "id": "naTqx5yLmQDR"
      },
      "source": [
        "This notebook will be mainly used for the capstone project of Applied Data Science Capstone in Coursera"
      ]
    },
    {
      "cell_type": "code",
      "metadata": {
        "id": "HCGR6Nkjh2z6"
      },
      "source": [
        "import pandas as pd\n",
        "import numpy as np"
      ],
      "execution_count": 1,
      "outputs": []
    },
    {
      "cell_type": "code",
      "metadata": {
        "colab": {
          "base_uri": "https://localhost:8080/"
        },
        "id": "wRlUFlBnmgzM",
        "outputId": "7e78db2c-7e7f-454f-c492-f7027f9e2690"
      },
      "source": [
        "print(\"Hello Capstone Project Course!\")"
      ],
      "execution_count": 2,
      "outputs": [
        {
          "output_type": "stream",
          "text": [
            "Hello Capstone Project Course!\n"
          ],
          "name": "stdout"
        }
      ]
    },
    {
      "cell_type": "code",
      "metadata": {
        "id": "DlqljAlVmkSn"
      },
      "source": [
        ""
      ],
      "execution_count": null,
      "outputs": []
    }
  ]
}