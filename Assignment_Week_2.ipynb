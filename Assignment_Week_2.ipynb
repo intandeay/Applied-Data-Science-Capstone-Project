{
  "nbformat": 4,
  "nbformat_minor": 0,
  "metadata": {
    "colab": {
      "name": "Assignment Week 2.ipynb",
      "provenance": [],
      "collapsed_sections": [],
      "authorship_tag": "ABX9TyPAG3kcjhjWkTw4mTKxariK",
      "include_colab_link": true
    },
    "kernelspec": {
      "name": "python3",
      "display_name": "Python 3"
    },
    "language_info": {
      "name": "python"
    }
  },
  "cells": [
    {
      "cell_type": "markdown",
      "metadata": {
        "id": "view-in-github",
        "colab_type": "text"
      },
      "source": [
        "<a href=\"https://colab.research.google.com/github/intandeay/Applied-Data-Science-Capstone-Project/blob/main/Assignment_Week_2.ipynb\" target=\"_parent\"><img src=\"https://colab.research.google.com/assets/colab-badge.svg\" alt=\"Open In Colab\"/></a>"
      ]
    },
    {
      "cell_type": "markdown",
      "source": [
        "# Descriptive Stats on Olympic Results"
      ],
      "metadata": {
        "id": "bqZ8Y_GcwpeK"
      }
    },
    {
      "cell_type": "markdown",
      "source": [
        "In this assignment, some questions that were proposed in the previous assignment are going to be tested. The dataset used is the Olympic Result & NOC.\n",
        "\n",
        "The questions in the previous assignment are:\n",
        "1. Is there any correlation between medalists and their previous achievements in Olympics?\n",
        "2. Is there any significant difference between the age of medalists and non-medalist?\n",
        "3. What sports contribute the most medals for each country?\n"
      ],
      "metadata": {
        "id": "AEozjuxIw3eM"
      }
    },
    {
      "cell_type": "markdown",
      "source": [
        "## Summary of The Different Descriptive Statistics"
      ],
      "metadata": {
        "id": "95k6biyfxvXD"
      }
    },
    {
      "cell_type": "code",
      "execution_count": 1,
      "metadata": {
        "id": "YfunH2i1Tjgq"
      },
      "outputs": [],
      "source": [
        "# Importing necessary libraries and modules\n",
        "\n",
        "import pandas as pd\n",
        "import numpy as np\n",
        "import scipy.stats as stats"
      ]
    },
    {
      "cell_type": "code",
      "source": [
        "# Read The Dataset\n",
        "df = pd.read_excel('/content/athlete_events_sep.xlsx')\n",
        "noc = pd.read_csv(\"/content/noc_regions.csv\")"
      ],
      "metadata": {
        "id": "hgYNmLjKTrGE"
      },
      "execution_count": 3,
      "outputs": []
    },
    {
      "cell_type": "code",
      "source": [
        "df.head()"
      ],
      "metadata": {
        "colab": {
          "base_uri": "https://localhost:8080/",
          "height": 337
        },
        "id": "BG4Ttq3LUA8m",
        "outputId": "6f854a88-3864-4c62-df11-b96af043c178"
      },
      "execution_count": 4,
      "outputs": [
        {
          "output_type": "execute_result",
          "data": {
            "text/plain": [
              "   ID                      Name Sex   Age  Height  Weight            Team  \\\n",
              "0   1                 A Dijiang   M  24.0   180.0    80.0           China   \n",
              "1   2                  A Lamusi   M  23.0   170.0    60.0           China   \n",
              "2   3       Gunnar Nielsen Aaby   M  24.0     NaN     NaN         Denmark   \n",
              "3   4      Edgar Lindenau Aabye   M  34.0     NaN     NaN  Denmark/Sweden   \n",
              "4   5  Christine Jacoba Aaftink   F  21.0   185.0    82.0     Netherlands   \n",
              "\n",
              "   NOC        Games  Year  Season       City          Sport  \\\n",
              "0  CHN  1992 Summer  1992  Summer  Barcelona     Basketball   \n",
              "1  CHN  2012 Summer  2012  Summer     London           Judo   \n",
              "2  DEN  1920 Summer  1920  Summer  Antwerpen       Football   \n",
              "3  DEN  1900 Summer  1900  Summer      Paris     Tug-Of-War   \n",
              "4  NED  1988 Winter  1988  Winter    Calgary  Speed Skating   \n",
              "\n",
              "                              Event Medal  \n",
              "0       Basketball Men's Basketball   NaN  \n",
              "1      Judo Men's Extra-Lightweight   NaN  \n",
              "2           Football Men's Football   NaN  \n",
              "3       Tug-Of-War Men's Tug-Of-War  Gold  \n",
              "4  Speed Skating Women's 500 metres   NaN  "
            ],
            "text/html": [
              "\n",
              "  <div id=\"df-19e7c848-d37a-4951-ae40-e0ae0148cc15\">\n",
              "    <div class=\"colab-df-container\">\n",
              "      <div>\n",
              "<style scoped>\n",
              "    .dataframe tbody tr th:only-of-type {\n",
              "        vertical-align: middle;\n",
              "    }\n",
              "\n",
              "    .dataframe tbody tr th {\n",
              "        vertical-align: top;\n",
              "    }\n",
              "\n",
              "    .dataframe thead th {\n",
              "        text-align: right;\n",
              "    }\n",
              "</style>\n",
              "<table border=\"1\" class=\"dataframe\">\n",
              "  <thead>\n",
              "    <tr style=\"text-align: right;\">\n",
              "      <th></th>\n",
              "      <th>ID</th>\n",
              "      <th>Name</th>\n",
              "      <th>Sex</th>\n",
              "      <th>Age</th>\n",
              "      <th>Height</th>\n",
              "      <th>Weight</th>\n",
              "      <th>Team</th>\n",
              "      <th>NOC</th>\n",
              "      <th>Games</th>\n",
              "      <th>Year</th>\n",
              "      <th>Season</th>\n",
              "      <th>City</th>\n",
              "      <th>Sport</th>\n",
              "      <th>Event</th>\n",
              "      <th>Medal</th>\n",
              "    </tr>\n",
              "  </thead>\n",
              "  <tbody>\n",
              "    <tr>\n",
              "      <th>0</th>\n",
              "      <td>1</td>\n",
              "      <td>A Dijiang</td>\n",
              "      <td>M</td>\n",
              "      <td>24.0</td>\n",
              "      <td>180.0</td>\n",
              "      <td>80.0</td>\n",
              "      <td>China</td>\n",
              "      <td>CHN</td>\n",
              "      <td>1992 Summer</td>\n",
              "      <td>1992</td>\n",
              "      <td>Summer</td>\n",
              "      <td>Barcelona</td>\n",
              "      <td>Basketball</td>\n",
              "      <td>Basketball Men's Basketball</td>\n",
              "      <td>NaN</td>\n",
              "    </tr>\n",
              "    <tr>\n",
              "      <th>1</th>\n",
              "      <td>2</td>\n",
              "      <td>A Lamusi</td>\n",
              "      <td>M</td>\n",
              "      <td>23.0</td>\n",
              "      <td>170.0</td>\n",
              "      <td>60.0</td>\n",
              "      <td>China</td>\n",
              "      <td>CHN</td>\n",
              "      <td>2012 Summer</td>\n",
              "      <td>2012</td>\n",
              "      <td>Summer</td>\n",
              "      <td>London</td>\n",
              "      <td>Judo</td>\n",
              "      <td>Judo Men's Extra-Lightweight</td>\n",
              "      <td>NaN</td>\n",
              "    </tr>\n",
              "    <tr>\n",
              "      <th>2</th>\n",
              "      <td>3</td>\n",
              "      <td>Gunnar Nielsen Aaby</td>\n",
              "      <td>M</td>\n",
              "      <td>24.0</td>\n",
              "      <td>NaN</td>\n",
              "      <td>NaN</td>\n",
              "      <td>Denmark</td>\n",
              "      <td>DEN</td>\n",
              "      <td>1920 Summer</td>\n",
              "      <td>1920</td>\n",
              "      <td>Summer</td>\n",
              "      <td>Antwerpen</td>\n",
              "      <td>Football</td>\n",
              "      <td>Football Men's Football</td>\n",
              "      <td>NaN</td>\n",
              "    </tr>\n",
              "    <tr>\n",
              "      <th>3</th>\n",
              "      <td>4</td>\n",
              "      <td>Edgar Lindenau Aabye</td>\n",
              "      <td>M</td>\n",
              "      <td>34.0</td>\n",
              "      <td>NaN</td>\n",
              "      <td>NaN</td>\n",
              "      <td>Denmark/Sweden</td>\n",
              "      <td>DEN</td>\n",
              "      <td>1900 Summer</td>\n",
              "      <td>1900</td>\n",
              "      <td>Summer</td>\n",
              "      <td>Paris</td>\n",
              "      <td>Tug-Of-War</td>\n",
              "      <td>Tug-Of-War Men's Tug-Of-War</td>\n",
              "      <td>Gold</td>\n",
              "    </tr>\n",
              "    <tr>\n",
              "      <th>4</th>\n",
              "      <td>5</td>\n",
              "      <td>Christine Jacoba Aaftink</td>\n",
              "      <td>F</td>\n",
              "      <td>21.0</td>\n",
              "      <td>185.0</td>\n",
              "      <td>82.0</td>\n",
              "      <td>Netherlands</td>\n",
              "      <td>NED</td>\n",
              "      <td>1988 Winter</td>\n",
              "      <td>1988</td>\n",
              "      <td>Winter</td>\n",
              "      <td>Calgary</td>\n",
              "      <td>Speed Skating</td>\n",
              "      <td>Speed Skating Women's 500 metres</td>\n",
              "      <td>NaN</td>\n",
              "    </tr>\n",
              "  </tbody>\n",
              "</table>\n",
              "</div>\n",
              "      <button class=\"colab-df-convert\" onclick=\"convertToInteractive('df-19e7c848-d37a-4951-ae40-e0ae0148cc15')\"\n",
              "              title=\"Convert this dataframe to an interactive table.\"\n",
              "              style=\"display:none;\">\n",
              "        \n",
              "  <svg xmlns=\"http://www.w3.org/2000/svg\" height=\"24px\"viewBox=\"0 0 24 24\"\n",
              "       width=\"24px\">\n",
              "    <path d=\"M0 0h24v24H0V0z\" fill=\"none\"/>\n",
              "    <path d=\"M18.56 5.44l.94 2.06.94-2.06 2.06-.94-2.06-.94-.94-2.06-.94 2.06-2.06.94zm-11 1L8.5 8.5l.94-2.06 2.06-.94-2.06-.94L8.5 2.5l-.94 2.06-2.06.94zm10 10l.94 2.06.94-2.06 2.06-.94-2.06-.94-.94-2.06-.94 2.06-2.06.94z\"/><path d=\"M17.41 7.96l-1.37-1.37c-.4-.4-.92-.59-1.43-.59-.52 0-1.04.2-1.43.59L10.3 9.45l-7.72 7.72c-.78.78-.78 2.05 0 2.83L4 21.41c.39.39.9.59 1.41.59.51 0 1.02-.2 1.41-.59l7.78-7.78 2.81-2.81c.8-.78.8-2.07 0-2.86zM5.41 20L4 18.59l7.72-7.72 1.47 1.35L5.41 20z\"/>\n",
              "  </svg>\n",
              "      </button>\n",
              "      \n",
              "  <style>\n",
              "    .colab-df-container {\n",
              "      display:flex;\n",
              "      flex-wrap:wrap;\n",
              "      gap: 12px;\n",
              "    }\n",
              "\n",
              "    .colab-df-convert {\n",
              "      background-color: #E8F0FE;\n",
              "      border: none;\n",
              "      border-radius: 50%;\n",
              "      cursor: pointer;\n",
              "      display: none;\n",
              "      fill: #1967D2;\n",
              "      height: 32px;\n",
              "      padding: 0 0 0 0;\n",
              "      width: 32px;\n",
              "    }\n",
              "\n",
              "    .colab-df-convert:hover {\n",
              "      background-color: #E2EBFA;\n",
              "      box-shadow: 0px 1px 2px rgba(60, 64, 67, 0.3), 0px 1px 3px 1px rgba(60, 64, 67, 0.15);\n",
              "      fill: #174EA6;\n",
              "    }\n",
              "\n",
              "    [theme=dark] .colab-df-convert {\n",
              "      background-color: #3B4455;\n",
              "      fill: #D2E3FC;\n",
              "    }\n",
              "\n",
              "    [theme=dark] .colab-df-convert:hover {\n",
              "      background-color: #434B5C;\n",
              "      box-shadow: 0px 1px 3px 1px rgba(0, 0, 0, 0.15);\n",
              "      filter: drop-shadow(0px 1px 2px rgba(0, 0, 0, 0.3));\n",
              "      fill: #FFFFFF;\n",
              "    }\n",
              "  </style>\n",
              "\n",
              "      <script>\n",
              "        const buttonEl =\n",
              "          document.querySelector('#df-19e7c848-d37a-4951-ae40-e0ae0148cc15 button.colab-df-convert');\n",
              "        buttonEl.style.display =\n",
              "          google.colab.kernel.accessAllowed ? 'block' : 'none';\n",
              "\n",
              "        async function convertToInteractive(key) {\n",
              "          const element = document.querySelector('#df-19e7c848-d37a-4951-ae40-e0ae0148cc15');\n",
              "          const dataTable =\n",
              "            await google.colab.kernel.invokeFunction('convertToInteractive',\n",
              "                                                     [key], {});\n",
              "          if (!dataTable) return;\n",
              "\n",
              "          const docLinkHtml = 'Like what you see? Visit the ' +\n",
              "            '<a target=\"_blank\" href=https://colab.research.google.com/notebooks/data_table.ipynb>data table notebook</a>'\n",
              "            + ' to learn more about interactive tables.';\n",
              "          element.innerHTML = '';\n",
              "          dataTable['output_type'] = 'display_data';\n",
              "          await google.colab.output.renderOutput(dataTable, element);\n",
              "          const docLink = document.createElement('div');\n",
              "          docLink.innerHTML = docLinkHtml;\n",
              "          element.appendChild(docLink);\n",
              "        }\n",
              "      </script>\n",
              "    </div>\n",
              "  </div>\n",
              "  "
            ]
          },
          "metadata": {},
          "execution_count": 4
        }
      ]
    },
    {
      "cell_type": "code",
      "source": [
        "df.info()"
      ],
      "metadata": {
        "colab": {
          "base_uri": "https://localhost:8080/",
          "height": 0
        },
        "id": "hnHpW0H7U7T0",
        "outputId": "8ffc4450-e7b7-4cf6-88a6-96c2fbe1bab3"
      },
      "execution_count": 8,
      "outputs": [
        {
          "output_type": "stream",
          "name": "stdout",
          "text": [
            "<class 'pandas.core.frame.DataFrame'>\n",
            "RangeIndex: 271116 entries, 0 to 271115\n",
            "Data columns (total 16 columns):\n",
            " #   Column   Non-Null Count   Dtype  \n",
            "---  ------   --------------   -----  \n",
            " 0   ID       271116 non-null  int64  \n",
            " 1   Name     271116 non-null  object \n",
            " 2   Sex      271116 non-null  object \n",
            " 3   Age      261642 non-null  float64\n",
            " 4   Height   210945 non-null  float64\n",
            " 5   Weight   208241 non-null  float64\n",
            " 6   Team     271116 non-null  object \n",
            " 7   NOC      271116 non-null  object \n",
            " 8   Games    271116 non-null  object \n",
            " 9   Year     271116 non-null  int64  \n",
            " 10  Season   271116 non-null  object \n",
            " 11  City     271116 non-null  object \n",
            " 12  Sport    271116 non-null  object \n",
            " 13  Event    271116 non-null  object \n",
            " 14  Medal    39783 non-null   object \n",
            " 15  isMedal  271116 non-null  bool   \n",
            "dtypes: bool(1), float64(3), int64(2), object(10)\n",
            "memory usage: 31.3+ MB\n"
          ]
        }
      ]
    },
    {
      "cell_type": "markdown",
      "source": [
        "### Is There Any Correlation Between Medalists and Their Previous Achievements in Olympics?"
      ],
      "metadata": {
        "id": "ZEY-oKsMnqnH"
      }
    },
    {
      "cell_type": "markdown",
      "source": [
        "In this part, first we are going to do some cumulative sum of the medals for each athlete. "
      ],
      "metadata": {
        "id": "DkQBwW0Mx3xK"
      }
    },
    {
      "cell_type": "code",
      "source": [
        "# Create new binary column to describe get medal/not\n",
        "df['isMedal'] = df['Medal'].notnull()\n",
        "# New column for cumulative sum of medals\n",
        "df['sumMedal'] = 0"
      ],
      "metadata": {
        "id": "P6dXwpE3Umhl"
      },
      "execution_count": 5,
      "outputs": []
    },
    {
      "cell_type": "code",
      "source": [
        "# Iterating per each row\n",
        "for i, row in df.iterrows():\n",
        "    ath_id = row['ID']\n",
        "    year = row['Year']\n",
        "\n",
        "    # Get the previous achievements for athlete\n",
        "    ath_prev_performance = df.loc[(df['ID'] == ath_id) & (df['Year'] < year)]\n",
        "    # Cumulative sum\n",
        "    prev_medal = ath_prev_performance['isMedal'].sum()\n",
        "    df.loc[i, 'sumMedal'] = prev_medal"
      ],
      "metadata": {
        "id": "wqVfXzKNUsz4"
      },
      "execution_count": 12,
      "outputs": []
    },
    {
      "cell_type": "code",
      "source": [
        "# Binary variable to describe whether the athlete \n",
        "# has won any medal previously in specific Olympic Games\n",
        "df['prevGotMedal'] = df['sumMedal'] > 0"
      ],
      "metadata": {
        "id": "B8Kh6kVdUuHs"
      },
      "execution_count": 17,
      "outputs": []
    },
    {
      "cell_type": "markdown",
      "source": [
        "Now, there are two binary variables that we are going to explore their correlation, isMedal and prevGotMedal. IsMedal feature signifies that the athlete won a medal in a specific Olympic Games. Meanwhile, prevGotMedal means to describe whether the athlete has got medals before that Olympic Games. Since these two variables are binary, hence we are going to use Chi-Square Test.\n",
        "\n",
        "To perform Chi-Square Test, first we have to count the contingency table/crosstab for each combination of isMedal and prevGotMedal value. There will be four combinations."
      ],
      "metadata": {
        "id": "VL7Thdf_ypE4"
      }
    },
    {
      "cell_type": "code",
      "source": [
        "ct = pd.crosstab(index=df['isMedal'], columns=df['prevGotMedal'],margins=True, margins_name=\"Total\")"
      ],
      "metadata": {
        "id": "IAWpFBxNaTUl"
      },
      "execution_count": 24,
      "outputs": []
    },
    {
      "cell_type": "code",
      "source": [
        "ct"
      ],
      "metadata": {
        "colab": {
          "base_uri": "https://localhost:8080/",
          "height": 175
        },
        "id": "5bwlfCIucVP6",
        "outputId": "5e70772b-c214-44a8-b12c-c1c1c1e0e0e8"
      },
      "execution_count": 25,
      "outputs": [
        {
          "output_type": "execute_result",
          "data": {
            "text/plain": [
              "prevGotMedal   False   True   Total\n",
              "isMedal                            \n",
              "False         216584  14749  231333\n",
              "True           31308   8475   39783\n",
              "Total         247892  23224  271116"
            ],
            "text/html": [
              "\n",
              "  <div id=\"df-b88e79dc-fb12-489a-baa7-6da36140ecfa\">\n",
              "    <div class=\"colab-df-container\">\n",
              "      <div>\n",
              "<style scoped>\n",
              "    .dataframe tbody tr th:only-of-type {\n",
              "        vertical-align: middle;\n",
              "    }\n",
              "\n",
              "    .dataframe tbody tr th {\n",
              "        vertical-align: top;\n",
              "    }\n",
              "\n",
              "    .dataframe thead th {\n",
              "        text-align: right;\n",
              "    }\n",
              "</style>\n",
              "<table border=\"1\" class=\"dataframe\">\n",
              "  <thead>\n",
              "    <tr style=\"text-align: right;\">\n",
              "      <th>prevGotMedal</th>\n",
              "      <th>False</th>\n",
              "      <th>True</th>\n",
              "      <th>Total</th>\n",
              "    </tr>\n",
              "    <tr>\n",
              "      <th>isMedal</th>\n",
              "      <th></th>\n",
              "      <th></th>\n",
              "      <th></th>\n",
              "    </tr>\n",
              "  </thead>\n",
              "  <tbody>\n",
              "    <tr>\n",
              "      <th>False</th>\n",
              "      <td>216584</td>\n",
              "      <td>14749</td>\n",
              "      <td>231333</td>\n",
              "    </tr>\n",
              "    <tr>\n",
              "      <th>True</th>\n",
              "      <td>31308</td>\n",
              "      <td>8475</td>\n",
              "      <td>39783</td>\n",
              "    </tr>\n",
              "    <tr>\n",
              "      <th>Total</th>\n",
              "      <td>247892</td>\n",
              "      <td>23224</td>\n",
              "      <td>271116</td>\n",
              "    </tr>\n",
              "  </tbody>\n",
              "</table>\n",
              "</div>\n",
              "      <button class=\"colab-df-convert\" onclick=\"convertToInteractive('df-b88e79dc-fb12-489a-baa7-6da36140ecfa')\"\n",
              "              title=\"Convert this dataframe to an interactive table.\"\n",
              "              style=\"display:none;\">\n",
              "        \n",
              "  <svg xmlns=\"http://www.w3.org/2000/svg\" height=\"24px\"viewBox=\"0 0 24 24\"\n",
              "       width=\"24px\">\n",
              "    <path d=\"M0 0h24v24H0V0z\" fill=\"none\"/>\n",
              "    <path d=\"M18.56 5.44l.94 2.06.94-2.06 2.06-.94-2.06-.94-.94-2.06-.94 2.06-2.06.94zm-11 1L8.5 8.5l.94-2.06 2.06-.94-2.06-.94L8.5 2.5l-.94 2.06-2.06.94zm10 10l.94 2.06.94-2.06 2.06-.94-2.06-.94-.94-2.06-.94 2.06-2.06.94z\"/><path d=\"M17.41 7.96l-1.37-1.37c-.4-.4-.92-.59-1.43-.59-.52 0-1.04.2-1.43.59L10.3 9.45l-7.72 7.72c-.78.78-.78 2.05 0 2.83L4 21.41c.39.39.9.59 1.41.59.51 0 1.02-.2 1.41-.59l7.78-7.78 2.81-2.81c.8-.78.8-2.07 0-2.86zM5.41 20L4 18.59l7.72-7.72 1.47 1.35L5.41 20z\"/>\n",
              "  </svg>\n",
              "      </button>\n",
              "      \n",
              "  <style>\n",
              "    .colab-df-container {\n",
              "      display:flex;\n",
              "      flex-wrap:wrap;\n",
              "      gap: 12px;\n",
              "    }\n",
              "\n",
              "    .colab-df-convert {\n",
              "      background-color: #E8F0FE;\n",
              "      border: none;\n",
              "      border-radius: 50%;\n",
              "      cursor: pointer;\n",
              "      display: none;\n",
              "      fill: #1967D2;\n",
              "      height: 32px;\n",
              "      padding: 0 0 0 0;\n",
              "      width: 32px;\n",
              "    }\n",
              "\n",
              "    .colab-df-convert:hover {\n",
              "      background-color: #E2EBFA;\n",
              "      box-shadow: 0px 1px 2px rgba(60, 64, 67, 0.3), 0px 1px 3px 1px rgba(60, 64, 67, 0.15);\n",
              "      fill: #174EA6;\n",
              "    }\n",
              "\n",
              "    [theme=dark] .colab-df-convert {\n",
              "      background-color: #3B4455;\n",
              "      fill: #D2E3FC;\n",
              "    }\n",
              "\n",
              "    [theme=dark] .colab-df-convert:hover {\n",
              "      background-color: #434B5C;\n",
              "      box-shadow: 0px 1px 3px 1px rgba(0, 0, 0, 0.15);\n",
              "      filter: drop-shadow(0px 1px 2px rgba(0, 0, 0, 0.3));\n",
              "      fill: #FFFFFF;\n",
              "    }\n",
              "  </style>\n",
              "\n",
              "      <script>\n",
              "        const buttonEl =\n",
              "          document.querySelector('#df-b88e79dc-fb12-489a-baa7-6da36140ecfa button.colab-df-convert');\n",
              "        buttonEl.style.display =\n",
              "          google.colab.kernel.accessAllowed ? 'block' : 'none';\n",
              "\n",
              "        async function convertToInteractive(key) {\n",
              "          const element = document.querySelector('#df-b88e79dc-fb12-489a-baa7-6da36140ecfa');\n",
              "          const dataTable =\n",
              "            await google.colab.kernel.invokeFunction('convertToInteractive',\n",
              "                                                     [key], {});\n",
              "          if (!dataTable) return;\n",
              "\n",
              "          const docLinkHtml = 'Like what you see? Visit the ' +\n",
              "            '<a target=\"_blank\" href=https://colab.research.google.com/notebooks/data_table.ipynb>data table notebook</a>'\n",
              "            + ' to learn more about interactive tables.';\n",
              "          element.innerHTML = '';\n",
              "          dataTable['output_type'] = 'display_data';\n",
              "          await google.colab.output.renderOutput(dataTable, element);\n",
              "          const docLink = document.createElement('div');\n",
              "          docLink.innerHTML = docLinkHtml;\n",
              "          element.appendChild(docLink);\n",
              "        }\n",
              "      </script>\n",
              "    </div>\n",
              "  </div>\n",
              "  "
            ]
          },
          "metadata": {},
          "execution_count": 25
        }
      ]
    },
    {
      "cell_type": "markdown",
      "source": [
        "For this Ch-Square Test, here are the hypotheses\n",
        "\n",
        "- H0: The two features have no relationship\n",
        "- H1: The two features does have any relationship\n",
        "\n",
        "To know more about the Chi-square test, here is the reference I used to calculate it: https://towardsdatascience.com/chi-square-test-with-python-d8ba98117626"
      ],
      "metadata": {
        "id": "eJgy2gS5oK3x"
      }
    },
    {
      "cell_type": "code",
      "source": [
        "# Calcualtion of Chisquare\n",
        "chi_square = 0\n",
        "rows = df['isMedal'].unique()\n",
        "columns = df['prevGotMedal'].unique()\n",
        "for i in columns:\n",
        "    for j in rows:\n",
        "        O = ct[i][j]\n",
        "        E = ct[i]['Total'] * ct['Total'][j] / ct['Total']['Total']\n",
        "        chi_square += (O-E)**2/E"
      ],
      "metadata": {
        "id": "BICUbFVmclGU"
      },
      "execution_count": 26,
      "outputs": []
    },
    {
      "cell_type": "code",
      "source": [
        "# The p-value approach\n",
        "alpha = 0.05\n",
        "\n",
        "print(\"Approach 1: The p-value approach to hypothesis testing in the decision rule\")\n",
        "p_value = 1 - stats.chi2.cdf(chi_square, (len(rows)-1)*(len(columns)-1))\n",
        "conclusion = \"Failed to reject the null hypothesis.\"\n",
        "if p_value <= alpha:\n",
        "    conclusion = \"Null Hypothesis is rejected.\"\n",
        "        \n",
        "print(\"chisquare-score is:\", chi_square, \" and p value is:\", np.round(p_value, 4))\n",
        "print(conclusion)\n",
        "    \n",
        "# The critical value approach\n",
        "print(\"\\n--------------------------------------------------------------------------------------\")\n",
        "print(\"Approach 2: The critical value approach to hypothesis testing in the decision rule\")\n",
        "critical_value = stats.chi2.ppf(1-alpha, (len(rows)-1)*(len(columns)-1))\n",
        "conclusion = \"Failed to reject the null hypothesis.\"\n",
        "if chi_square > critical_value:\n",
        "    conclusion = \"Null Hypothesis is rejected.\"\n",
        "        \n",
        "print(\"chisquare-score is:\", chi_square, \" and critical value is:\", critical_value)\n",
        "print(conclusion)"
      ],
      "metadata": {
        "colab": {
          "base_uri": "https://localhost:8080/",
          "height": 0
        },
        "id": "An_DSWTmc80r",
        "outputId": "5b91a334-4cb3-46ec-dbba-e06ea3af5368"
      },
      "execution_count": 30,
      "outputs": [
        {
          "output_type": "stream",
          "name": "stdout",
          "text": [
            "Approach 1: The p-value approach to hypothesis testing in the decision rule\n",
            "chisquare-score is: 9657.389481764021  and p value is: 0.0\n",
            "Null Hypothesis is rejected.\n",
            "\n",
            "--------------------------------------------------------------------------------------\n",
            "Approach 2: The critical value approach to hypothesis testing in the decision rule\n",
            "chisquare-score is: 9657.389481764021  and critical value is: 3.841458820694124\n",
            "Null Hypothesis is rejected.\n"
          ]
        }
      ]
    },
    {
      "cell_type": "markdown",
      "source": [
        "By the Chi-square Test, we see that the p-value is less than 0.05. This means that there is enough evidence that there is any relationship between achievement of athletes in Olympic Games and their previous results."
      ],
      "metadata": {
        "id": "2-8Z3k4Rn3e1"
      }
    },
    {
      "cell_type": "markdown",
      "source": [
        "## Is There Any Significant Difference Between The Age of Medalists and Non-Medalist?"
      ],
      "metadata": {
        "id": "oeUfUzs4oPXR"
      }
    },
    {
      "cell_type": "markdown",
      "source": [
        "In this part, we are going to explore whether age has any connection for performance. First, we are going to extract the ages of each type of medal. Then we also extract the age of any medalists and non-medalists."
      ],
      "metadata": {
        "id": "wFu7w8P80uG8"
      }
    },
    {
      "cell_type": "code",
      "source": [
        "age_gold = df[(df['Medal'] =='Gold') & (df['Age'].notnull())]['Age']\n",
        "age_silver = df[(df['Medal'] =='Silver') & (df['Age'].notnull())]['Age']\n",
        "age_bronze = df[(df['Medal'] =='Bronze') & (df['Age'].notnull())]['Age']\n",
        "age_nonmedal = df[(df['Medal'].isnull()) & (df['Age'].notnull())]['Age']\n",
        "age_medal = df[(df['Medal'].notnull()) & (df['Age'].notnull())]['Age']"
      ],
      "metadata": {
        "id": "Qx0IOzjNdKAX"
      },
      "execution_count": 48,
      "outputs": []
    },
    {
      "cell_type": "code",
      "source": [
        "print(\"Mean Age of Gold Medalist\", age_gold.mean())\n",
        "print(\"Mean Age of Silver Medalist\", age_silver.mean())\n",
        "print(\"Mean Age of Bronze Medalist\", age_bronze.mean())\n",
        "print(\"Mean Age of Medalist\", age_medal.mean())\n",
        "print(\"Mean Age of Non-Medalist\", age_nonmedal.mean())"
      ],
      "metadata": {
        "colab": {
          "base_uri": "https://localhost:8080/",
          "height": 0
        },
        "id": "41osUqOZhWM1",
        "outputId": "1f08ab3f-be80-4859-92ab-065923e2f419"
      },
      "execution_count": 54,
      "outputs": [
        {
          "output_type": "stream",
          "name": "stdout",
          "text": [
            "Mean Age of Gold Medalist 25.901013309134907\n",
            "Mean Age of Silver Medalist 25.99672412448327\n",
            "Mean Age of Bronze Medalist 25.879209595571275\n",
            "Mean Age of Medalist 25.925174771452717\n",
            "Mean Age of Non-Medalist 25.492288547155994\n"
          ]
        }
      ]
    },
    {
      "cell_type": "markdown",
      "source": [
        "#### Gold Medalist vs Non-Medalist"
      ],
      "metadata": {
        "id": "55_Gj91D1AqT"
      }
    },
    {
      "cell_type": "markdown",
      "source": [
        "T-test for two independent samples is used."
      ],
      "metadata": {
        "id": "ewKHley31G8v"
      }
    },
    {
      "cell_type": "code",
      "source": [
        "stats.ttest_ind(age_gold, age_nonmedal)"
      ],
      "metadata": {
        "colab": {
          "base_uri": "https://localhost:8080/",
          "height": 0
        },
        "id": "bGSdc2XPfVgY",
        "outputId": "d6abffd1-bc36-4485-db4e-d9eeef36fafa"
      },
      "execution_count": 49,
      "outputs": [
        {
          "output_type": "execute_result",
          "data": {
            "text/plain": [
              "Ttest_indResult(statistic=7.089918154207331, pvalue=1.345654555600641e-12)"
            ]
          },
          "metadata": {},
          "execution_count": 49
        }
      ]
    },
    {
      "cell_type": "markdown",
      "source": [
        "Since p-value is < 0.05, we can conclude that there is enough evidence to support that ages of gold medalists are significantly different than non-medalist"
      ],
      "metadata": {
        "id": "svIoik-61Qt3"
      }
    },
    {
      "cell_type": "markdown",
      "source": [
        "#### Gold vs Silver vs Bronze"
      ],
      "metadata": {
        "id": "h4Sb3obQ1jUi"
      }
    },
    {
      "cell_type": "markdown",
      "source": [
        "For this test, since there are more than two groups, hence we use One way ANOVA Test"
      ],
      "metadata": {
        "id": "4nTyJjhD1jOF"
      }
    },
    {
      "cell_type": "code",
      "source": [
        "stats.f_oneway(age_gold, age_silver, age_bronze)"
      ],
      "metadata": {
        "colab": {
          "base_uri": "https://localhost:8080/",
          "height": 0
        },
        "id": "Maab8uQqfixO",
        "outputId": "4405ca05-2e0b-41f3-e19a-124b7c8c6f4d"
      },
      "execution_count": 51,
      "outputs": [
        {
          "output_type": "execute_result",
          "data": {
            "text/plain": [
              "F_onewayResult(statistic=1.4415127134142867, pvalue=0.23658221471061605)"
            ]
          },
          "metadata": {},
          "execution_count": 51
        }
      ]
    },
    {
      "cell_type": "markdown",
      "source": [
        "Since p-value is > 0.05, we can conclude that there is not enough evidence to support that ages of each type of medalists have significant different among each other."
      ],
      "metadata": {
        "id": "_8u-UEcb1vqO"
      }
    },
    {
      "cell_type": "markdown",
      "source": [
        "#### Medalists vs Non-Medalists"
      ],
      "metadata": {
        "id": "ZK8me2o0166F"
      }
    },
    {
      "cell_type": "markdown",
      "source": [
        "For this test, T-test for two independent samples is used."
      ],
      "metadata": {
        "id": "pN9g6HVp162v"
      }
    },
    {
      "cell_type": "code",
      "source": [
        "stats.ttest_ind(age_medal, age_nonmedal)"
      ],
      "metadata": {
        "colab": {
          "base_uri": "https://localhost:8080/",
          "height": 0
        },
        "id": "QUT5XHQjgRfg",
        "outputId": "cb85ea24-4db8-4cd6-eb08-a54f2ead48ed"
      },
      "execution_count": 52,
      "outputs": [
        {
          "output_type": "execute_result",
          "data": {
            "text/plain": [
              "Ttest_indResult(statistic=12.344477668888402, pvalue=5.335730124331498e-35)"
            ]
          },
          "metadata": {},
          "execution_count": 52
        }
      ]
    },
    {
      "cell_type": "markdown",
      "source": [
        "Since p-value is < 0.05, we can conclude that there is enough evidence to support that ages of medalists are significantly different than non-medalists"
      ],
      "metadata": {
        "id": "QRbsom3O17YP"
      }
    },
    {
      "cell_type": "markdown",
      "source": [
        "### Countries and Sports that Contribute the Most Medals"
      ],
      "metadata": {
        "id": "cztz-WlTnCJt"
      }
    },
    {
      "cell_type": "markdown",
      "source": [
        "In this part, we are going to extract the name of the sports that contribute the most medals for each country. For this, we are going to use groupby and aggregation by mode in Sport column."
      ],
      "metadata": {
        "id": "P8obMjfu2L8U"
      }
    },
    {
      "cell_type": "code",
      "source": [
        "# Only medal\n",
        "df_medal = df[df['isMedal']]\n",
        "\n",
        "# Perform Group by\n",
        "country_sportMostMedals = df_medal.groupby('NOC').agg({'Sport':pd.Series.mode}).reset_index()\n",
        "# Merge with NOC dataset to get the country/region name\n",
        "country_sportMostMedals = country_sportMostMedals.merge(noc, on = 'NOC', how = 'inner')\n",
        "\n",
        "for i, r in country_sportMostMedals.iterrows():\n",
        "    print(\"Country:\", r['region'], \"| Sport:\", r['Sport'])"
      ],
      "metadata": {
        "colab": {
          "base_uri": "https://localhost:8080/",
          "height": 0
        },
        "id": "XEjuRMeUhsa_",
        "outputId": "04990d2e-be4e-4c9c-fb84-646f1894f82b"
      },
      "execution_count": 68,
      "outputs": [
        {
          "output_type": "stream",
          "name": "stdout",
          "text": [
            "Country: Afghanistan | Sport: Taekwondo\n",
            "Country: Curacao | Sport: Sailing\n",
            "Country: Algeria | Sport: Athletics\n",
            "Country: Australia | Sport: Rugby\n",
            "Country: Argentina | Sport: Hockey\n",
            "Country: Armenia | Sport: Wrestling\n",
            "Country: Australia | Sport: Swimming\n",
            "Country: Austria | Sport: Alpine Skiing\n",
            "Country: Azerbaijan | Sport: Wrestling\n",
            "Country: Bahamas | Sport: Athletics\n",
            "Country: Barbados | Sport: Athletics\n",
            "Country: Burundi | Sport: Athletics\n",
            "Country: Belgium | Sport: Water Polo\n",
            "Country: Bermuda | Sport: Boxing\n",
            "Country: Belarus | Sport: Canoeing\n",
            "Country: Czech Republic | Sport: Fencing\n",
            "Country: Botswana | Sport: Athletics\n",
            "Country: Brazil | Sport: Football\n",
            "Country: Bahrain | Sport: Athletics\n",
            "Country: Bulgaria | Sport: Wrestling\n",
            "Country: Canada | Sport: Ice Hockey\n",
            "Country: Chile | Sport: Football\n",
            "Country: China | Sport: Gymnastics\n",
            "Country: Ivory Coast | Sport: Taekwondo\n",
            "Country: Cameroon | Sport: Football\n",
            "Country: Colombia | Sport: ['Cycling' 'Weightlifting']\n",
            "Country: Costa Rica | Sport: Swimming\n",
            "Country: Croatia | Sport: Handball\n",
            "Country: Cuba | Sport: Baseball\n",
            "Country: Cyprus | Sport: Sailing\n",
            "Country: Czech Republic | Sport: Ice Hockey\n",
            "Country: Denmark | Sport: Gymnastics\n",
            "Country: Djibouti | Sport: Athletics\n",
            "Country: Dominican Republic | Sport: Athletics\n",
            "Country: Ecuador | Sport: Athletics\n",
            "Country: Egypt | Sport: Weightlifting\n",
            "Country: Eritrea | Sport: Athletics\n",
            "Country: Spain | Sport: Hockey\n",
            "Country: Estonia | Sport: Wrestling\n",
            "Country: Ethiopia | Sport: Athletics\n",
            "Country: Russia | Sport: Swimming\n",
            "Country: Fiji | Sport: Rugby Sevens\n",
            "Country: Finland | Sport: Ice Hockey\n",
            "Country: France | Sport: Fencing\n",
            "Country: Germany | Sport: Athletics\n",
            "Country: Gabon | Sport: Taekwondo\n",
            "Country: UK | Sport: Athletics\n",
            "Country: Germany | Sport: Rowing\n",
            "Country: Georgia | Sport: Wrestling\n",
            "Country: Germany | Sport: Rowing\n",
            "Country: Ghana | Sport: Football\n",
            "Country: Greece | Sport: Rowing\n",
            "Country: Grenada | Sport: Athletics\n",
            "Country: Guatemala | Sport: Athletics\n",
            "Country: Guyana | Sport: Boxing\n",
            "Country: Haiti | Sport: Shooting\n",
            "Country: China | Sport: Table Tennis\n",
            "Country: Hungary | Sport: Fencing\n",
            "Country: Indonesia | Sport: Badminton\n",
            "Country: India | Sport: Hockey\n",
            "Country: Individual Olympic Athletes | Sport: Shooting\n",
            "Country: Iran | Sport: Wrestling\n",
            "Country: Ireland | Sport: Boxing\n",
            "Country: Iraq | Sport: Weightlifting\n",
            "Country: Iceland | Sport: Handball\n",
            "Country: Israel | Sport: Judo\n",
            "Country: Virgin Islands, US | Sport: Sailing\n",
            "Country: Italy | Sport: Fencing\n",
            "Country: Jamaica | Sport: Athletics\n",
            "Country: Jordan | Sport: Taekwondo\n",
            "Country: Japan | Sport: Gymnastics\n",
            "Country: Kazakhstan | Sport: Boxing\n",
            "Country: Kenya | Sport: Athletics\n",
            "Country: Kyrgyzstan | Sport: Wrestling\n",
            "Country: South Korea | Sport: Handball\n",
            "Country: Kosovo | Sport: Judo\n",
            "Country: Saudi Arabia | Sport: Equestrianism\n",
            "Country: Kuwait | Sport: Shooting\n",
            "Country: Latvia | Sport: Luge\n",
            "Country: Lebanon | Sport: Wrestling\n",
            "Country: Liechtenstein | Sport: Alpine Skiing\n",
            "Country: Lithuania | Sport: Basketball\n",
            "Country: Luxembourg | Sport: Art Competitions\n",
            "Country: Morocco | Sport: Athletics\n",
            "Country: Malaysia | Sport: Badminton\n",
            "Country: Moldova | Sport: ['Boxing' 'Canoeing' 'Weightlifting']\n",
            "Country: Mexico | Sport: ['Diving' 'Equestrianism']\n",
            "Country: Mongolia | Sport: Wrestling\n",
            "Country: Macedonia | Sport: Wrestling\n",
            "Country: Montenegro | Sport: Handball\n",
            "Country: Monaco | Sport: Art Competitions\n",
            "Country: Mozambique | Sport: Athletics\n",
            "Country: Mauritius | Sport: Boxing\n",
            "Country: Namibia | Sport: Athletics\n",
            "Country: Netherlands | Sport: Hockey\n",
            "Country: Nepal | Sport: Alpinism\n",
            "Country: Nigeria | Sport: Football\n",
            "Country: Niger | Sport: ['Boxing' 'Taekwondo']\n",
            "Country: Norway | Sport: Cross Country Skiing\n",
            "Country: New Zealand | Sport: Rowing\n",
            "Country: Pakistan | Sport: Hockey\n",
            "Country: Panama | Sport: Athletics\n",
            "Country: Paraguay | Sport: Football\n",
            "Country: Peru | Sport: Volleyball\n",
            "Country: Philippines | Sport: Boxing\n",
            "Country: Poland | Sport: Fencing\n",
            "Country: Portugal | Sport: ['Athletics' 'Equestrianism']\n",
            "Country: North Korea | Sport: Weightlifting\n",
            "Country: Puerto Rico | Sport: Boxing\n",
            "Country: Qatar | Sport: Athletics\n",
            "Country: Romania | Sport: Rowing\n",
            "Country: South Africa | Sport: Athletics\n",
            "Country: Russia | Sport: Athletics\n",
            "Country: Serbia | Sport: Water Polo\n",
            "Country: Senegal | Sport: Athletics\n",
            "Country: Slovenia | Sport: Rowing\n",
            "Country: Serbia | Sport: Water Polo\n",
            "Country: Sri Lanka | Sport: Athletics\n",
            "Country: Sudan | Sport: Athletics\n",
            "Country: Switzerland | Sport: Bobsleigh\n",
            "Country: Suriname | Sport: Swimming\n",
            "Country: Slovakia | Sport: Canoeing\n",
            "Country: Sweden | Sport: Ice Hockey\n",
            "Country: Syria | Sport: ['Athletics' 'Boxing' 'Wrestling']\n",
            "Country: Tanzania | Sport: Athletics\n",
            "Country: Czech Republic | Sport: Ice Hockey\n",
            "Country: Tonga | Sport: Boxing\n",
            "Country: Thailand | Sport: Boxing\n",
            "Country: Tajikistan | Sport: ['Athletics' 'Boxing' 'Judo' 'Wrestling']\n",
            "Country: Togo | Sport: Canoeing\n",
            "Country: Taiwan | Sport: Baseball\n",
            "Country: Trinidad | Sport: Athletics\n",
            "Country: Tunisia | Sport: Athletics\n",
            "Country: Turkey | Sport: Wrestling\n",
            "Country: United Arab Emirates | Sport: ['Judo' 'Shooting']\n",
            "Country: Syria | Sport: ['Boxing' 'Wrestling']\n",
            "Country: Uganda | Sport: Boxing\n",
            "Country: Ukraine | Sport: Gymnastics\n",
            "Country: Russia | Sport: Gymnastics\n",
            "Country: Uruguay | Sport: Football\n",
            "Country: USA | Sport: Athletics\n",
            "Country: Uzbekistan | Sport: Boxing\n",
            "Country: Venezuela | Sport: Boxing\n",
            "Country: Vietnam | Sport: Shooting\n",
            "Country: Trinidad | Sport: Athletics\n",
            "Country: Serbia | Sport: Basketball\n",
            "Country: Zambia | Sport: ['Athletics' 'Boxing']\n",
            "Country: Zimbabwe | Sport: Hockey\n"
          ]
        }
      ]
    },
    {
      "cell_type": "code",
      "source": [
        "country_sportMostMedals.Sport.value_counts()"
      ],
      "metadata": {
        "colab": {
          "base_uri": "https://localhost:8080/",
          "height": 964
        },
        "id": "Uu-9SGvd348U",
        "outputId": "e74e1a46-c615-49d8-d6de-78bd9ed5b018"
      },
      "execution_count": 71,
      "outputs": [
        {
          "output_type": "error",
          "ename": "TypeError",
          "evalue": "ignored",
          "traceback": [
            "\u001b[0;31m---------------------------------------------------------------------------\u001b[0m",
            "\u001b[0;31mTypeError\u001b[0m                                 Traceback (most recent call last)",
            "\u001b[0;32mpandas/_libs/hashtable_class_helper.pxi\u001b[0m in \u001b[0;36mpandas._libs.hashtable.PyObjectHashTable.map_locations\u001b[0;34m()\u001b[0m\n",
            "\u001b[0;31mTypeError\u001b[0m: unhashable type: 'numpy.ndarray'"
          ]
        },
        {
          "output_type": "stream",
          "name": "stderr",
          "text": [
            "Exception ignored in: 'pandas._libs.index.IndexEngine._call_map_locations'\n",
            "Traceback (most recent call last):\n",
            "  File \"pandas/_libs/hashtable_class_helper.pxi\", line 5231, in pandas._libs.hashtable.PyObjectHashTable.map_locations\n",
            "TypeError: unhashable type: 'numpy.ndarray'\n"
          ]
        },
        {
          "output_type": "execute_result",
          "data": {
            "text/plain": [
              "Athletics                               32\n",
              "Boxing                                  12\n",
              "Wrestling                               11\n",
              "Football                                 7\n",
              "Rowing                                   6\n",
              "Hockey                                   6\n",
              "Fencing                                  5\n",
              "Gymnastics                               5\n",
              "Ice Hockey                               5\n",
              "Taekwondo                                4\n",
              "Handball                                 4\n",
              "Shooting                                 4\n",
              "Swimming                                 4\n",
              "Canoeing                                 3\n",
              "Sailing                                  3\n",
              "Water Polo                               3\n",
              "Weightlifting                            3\n",
              "Art Competitions                         2\n",
              "Judo                                     2\n",
              "Badminton                                2\n",
              "Basketball                               2\n",
              "Baseball                                 2\n",
              "Alpine Skiing                            2\n",
              "Rugby                                    1\n",
              "Cross Country Skiing                     1\n",
              "[Boxing, Wrestling]                      1\n",
              "[Judo, Shooting]                         1\n",
              "[Athletics, Boxing, Judo, Wrestling]     1\n",
              "[Athletics, Boxing, Wrestling]           1\n",
              "Bobsleigh                                1\n",
              "[Athletics, Equestrianism]               1\n",
              "Volleyball                               1\n",
              "Alpinism                                 1\n",
              "[Boxing, Taekwondo]                      1\n",
              "Table Tennis                             1\n",
              "[Diving, Equestrianism]                  1\n",
              "[Boxing, Canoeing, Weightlifting]        1\n",
              "[Cycling, Weightlifting]                 1\n",
              "Luge                                     1\n",
              "Equestrianism                            1\n",
              "Rugby Sevens                             1\n",
              "[Athletics, Boxing]                      1\n",
              "Name: Sport, dtype: int64"
            ]
          },
          "metadata": {},
          "execution_count": 71
        }
      ]
    },
    {
      "cell_type": "markdown",
      "source": [
        "## Key Points That I Discovered"
      ],
      "metadata": {
        "id": "jvkTD82MwoQf"
      }
    },
    {
      "cell_type": "markdown",
      "source": [
        "1. It is supported with evidence that previous performances in Olympic Games has an association to the performance in the next Olympic Games.\n",
        "2. Between three type of medalists, there are no strong evidence that their ages are significantly different. But, between medalists and non-medalists, there are strong evidence that their ages are significantly different.\n",
        "3. The mean of medalists' ages are six months older than the mean of non-medalists' ages.\n",
        "4. Each country has their own most medal-contributing sports. But among these sports, atheletics, boxing, and wrestling are the sports you can find most often as the most medal-contributing sports."
      ],
      "metadata": {
        "id": "T5__TLz_2tzV"
      }
    },
    {
      "cell_type": "markdown",
      "source": [
        "## Did you prove or disprove any of your initial hypotheses? If so, which one and what do you plan to do next?"
      ],
      "metadata": {
        "id": "BY1WXm5c43qf"
      }
    },
    {
      "cell_type": "markdown",
      "source": [
        "In my previous assignment, my initial hypotheses are:\n",
        "1. There is enough evidence to support that previous achievement has any association to current performance in Olympic Games.\n",
        "2. There is no strong evidence to support that ages between medalists and non-medalists are different.\n",
        "3. Type of sport will depend on the country’s strengths in the sport\n",
        "\n",
        "Two of my hypotheses are right, and this is what I will do:\n",
        "1. Dig deeper on whether number of previous medals or type of medals will have any connection to the achievement in the next Olympic Games.\n",
        "2. Since medalists are 6 months older than non-medalists, my thought is that this is due to those who were born in the first half of the year can enter or be accepted in earlier registration of training that led to more experience for the athlete. Then, there should be some way to compensate this for the ones who were born in the second half of the year.\n",
        "3. I would like to recommend the result to Olympic Committee for each country so that they can set the target as best as possible."
      ],
      "metadata": {
        "id": "QXWBIFuz48l9"
      }
    },
    {
      "cell_type": "markdown",
      "source": [
        "## What additional questions are you seeking to answer?"
      ],
      "metadata": {
        "id": "OPiym45b5dKq"
      }
    },
    {
      "cell_type": "markdown",
      "source": [
        "1. Are the dominating countries in Winter Games are different than the Summer Games? In terms of number of medals\n",
        "2. Is there any connection between the continent where the Games held and where the athletes come from, in terms of medal achievement?"
      ],
      "metadata": {
        "id": "fCOynawg6rkQ"
      }
    }
  ]
}